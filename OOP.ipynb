{
  "nbformat": 4,
  "nbformat_minor": 0,
  "metadata": {
    "colab": {
      "provenance": []
    },
    "kernelspec": {
      "name": "python3",
      "display_name": "Python 3"
    },
    "language_info": {
      "name": "python"
    }
  },
  "cells": [
    {
      "cell_type": "markdown",
      "source": [
        "1. **Using `self`:**\n",
        "\n",
        "  **Assignment:**  \n",
        "  Create a class `Student` with attributes `name` and `marks`. Use the `self` keyword to initialize these values via a constructor. Add a method `display()` that prints student details.\n",
        "\n",
        "----------"
      ],
      "metadata": {
        "id": "KuN1MMuKbCDf"
      }
    },
    {
      "cell_type": "code",
      "source": [
        "class Student:\n",
        "    def __init__(self, name, marks):\n",
        "      self.name = name      # Using self to assign instance variables\n",
        "      self.marks = marks\n",
        "\n",
        "    def display(self):\n",
        "      print(\"Student Name:\", self.name)\n",
        "      print(\"Marks:\", self.marks)\n",
        "\n",
        "# Example usage:\n",
        "student1 = Student(\"Syed Atique\", 88)\n",
        "student1.display()\n",
        "\n",
        "student2 = Student(\"Shanyal\", 98)\n",
        "student2.display()"
      ],
      "metadata": {
        "colab": {
          "base_uri": "https://localhost:8080/"
        },
        "id": "C35znEkJWPoW",
        "outputId": "9c6da69a-3d61-49d4-9ea0-6b79893e72ac"
      },
      "execution_count": 4,
      "outputs": [
        {
          "output_type": "stream",
          "name": "stdout",
          "text": [
            "Student Name: Syed Atique\n",
            "Marks: 88\n",
            "Student Name: Shanyal\n",
            "Marks: 98\n"
          ]
        }
      ]
    },
    {
      "cell_type": "markdown",
      "source": [
        "2. **Using `cls`:**\n",
        "\n",
        "  **Assignment:**  \n",
        "  Create a class `Counter` that keeps track of how many objects have been created. Use a class variable and a class method with `cls` to manage and display the count.\n"
      ],
      "metadata": {
        "id": "TwHPlfnFaLfs"
      }
    },
    {
      "cell_type": "code",
      "source": [
        "class Counter:\n",
        "    object_count = 0\n",
        "\n",
        "    def __init__(self):\n",
        "      Counter.object_count += 1\n",
        "\n",
        "    @classmethod\n",
        "    def display_count(cls):\n",
        "      print(\"Total objects created:\", cls.object_count)\n",
        "\n",
        "# Example usage:\n",
        "obj1 = Counter()\n",
        "obj2 = Counter()\n",
        "obj3 = Counter()\n",
        "\n",
        "Counter.display_count()"
      ],
      "metadata": {
        "colab": {
          "base_uri": "https://localhost:8080/"
        },
        "id": "usro2lDRbj4Z",
        "outputId": "f514854f-194f-46c4-ae1f-b1c59f375c55"
      },
      "execution_count": 5,
      "outputs": [
        {
          "output_type": "stream",
          "name": "stdout",
          "text": [
            "Total objects created: 3\n"
          ]
        }
      ]
    },
    {
      "cell_type": "markdown",
      "source": [
        "3. **Public Variables and Methods**\n",
        "\n",
        "  **Assignment:**  \n",
        "  Create a class `Car` with a public variable `brand` and a public method `start()`. Instantiate the class and access both from outside the class."
      ],
      "metadata": {
        "id": "h-UBbyFXcfVm"
      }
    },
    {
      "cell_type": "code",
      "source": [
        "class Car:\n",
        "    def __init__(self, brand):\n",
        "      self.brand = brand\n",
        "\n",
        "    def start(self):\n",
        "      print(f\"The {self.brand} car has started.\")\n",
        "\n",
        "# Example usage:\n",
        "my_car = Car(\"Toyota\")\n",
        "print(\"Brand:\", my_car.brand)\n",
        "my_car.start()"
      ],
      "metadata": {
        "colab": {
          "base_uri": "https://localhost:8080/"
        },
        "id": "ukT89goOcsSH",
        "outputId": "cd223518-3a2b-4818-ebb8-4f05cbcb79b1"
      },
      "execution_count": 6,
      "outputs": [
        {
          "output_type": "stream",
          "name": "stdout",
          "text": [
            "Brand: Toyota\n",
            "The Toyota car has started.\n"
          ]
        }
      ]
    },
    {
      "cell_type": "markdown",
      "source": [
        "4. **Class Variables and Class Methods**\n",
        "\n",
        "  **Assignment:**  \n",
        "  Create a class `Bank` with a class variable `bank_name`. Add a class method `change_bank_name(cls, name)` that allows changing the bank name. Show that it affects all instances.\n"
      ],
      "metadata": {
        "id": "SME1kgH4dqxF"
      }
    },
    {
      "cell_type": "code",
      "source": [
        "class Bank:\n",
        "    bank_name = \"Default Bank\"\n",
        "\n",
        "    def __init__(self, account_holder):\n",
        "      self.account_holder = account_holder\n",
        "\n",
        "    @classmethod\n",
        "    def change_bank_name(cls, name):\n",
        "      cls.bank_name = name\n",
        "\n",
        "    def display(self):\n",
        "      print(f\"Account Holder: {self.account_holder}, Bank: {Bank.bank_name}\")\n",
        "\n",
        "\n",
        "# Example usage:\n",
        "user1 = Bank(\"Syed Atique\")\n",
        "user2 = Bank(\"Shanyal\")\n",
        "\n",
        "user1.display()\n",
        "user2.display()\n",
        "\n",
        "Bank.change_bank_name(\"Sindh Bank of Pakistan\")\n",
        "\n",
        "user1.display()\n",
        "user2.display()"
      ],
      "metadata": {
        "colab": {
          "base_uri": "https://localhost:8080/"
        },
        "id": "aqyioTJTdyX9",
        "outputId": "b57e516c-2faa-4408-c9b7-a4e4a9de434a"
      },
      "execution_count": 9,
      "outputs": [
        {
          "output_type": "stream",
          "name": "stdout",
          "text": [
            "Account Holder: Syed Atique, Bank: Default Bank\n",
            "Account Holder: Shanyal, Bank: Default Bank\n",
            "Account Holder: Syed Atique, Bank: Sindh Bank of Pakistan\n",
            "Account Holder: Shanyal, Bank: Sindh Bank of Pakistan\n"
          ]
        }
      ]
    },
    {
      "cell_type": "markdown",
      "source": [
        "5. **Static Variables and Static Methods**\n",
        "\n",
        "  **Assignment:**  \n",
        "  Create a class `MathUtils` with a static method `add(a, b)` that returns the sum. No class or instance variables should be used.\n"
      ],
      "metadata": {
        "id": "_bKJ8pW4gJOw"
      }
    },
    {
      "cell_type": "code",
      "source": [
        "class MathUtils:\n",
        "    @staticmethod\n",
        "    def add(a, b):\n",
        "      return a + b\n",
        "\n",
        "# Example usage:\n",
        "result = MathUtils.add(5, 7)\n",
        "print(\"The Sum is:\", result)"
      ],
      "metadata": {
        "colab": {
          "base_uri": "https://localhost:8080/"
        },
        "id": "-rLxWQoVgP7J",
        "outputId": "30aefa57-fe62-44c6-8de2-8be1b3ed497f"
      },
      "execution_count": 10,
      "outputs": [
        {
          "output_type": "stream",
          "name": "stdout",
          "text": [
            "The Sum is: 12\n"
          ]
        }
      ]
    },
    {
      "cell_type": "markdown",
      "source": [
        "6. **Constructors and Destructors**\n",
        "\n",
        "  **Assignment:**  \n",
        "  Create a class `Logger` that prints a message when an object is created (constructor) and another message when it is destroyed (destructor).\n"
      ],
      "metadata": {
        "id": "EDECQtMEgpwG"
      }
    },
    {
      "cell_type": "code",
      "source": [
        "class Logger:\n",
        "    # Constructor\n",
        "    def __init__(self):\n",
        "        print(\"Logger object is created!\")\n",
        "\n",
        "    # Destructor\n",
        "    def __del__(self):  # Changed 'Self' to 'self'\n",
        "        print(\"Logger object is destroyed!\")\n",
        "\n",
        "# Create an object of the Logger class outside the class definition\n",
        "logger1 = Logger()\n",
        "\n",
        "# Delete the object explicitly to invoke the destructor\n",
        "del logger1"
      ],
      "metadata": {
        "colab": {
          "base_uri": "https://localhost:8080/"
        },
        "id": "jNhwwZahgwxh",
        "outputId": "b1bc649c-6c7b-4f0b-c6e8-69b67ccf9ee4"
      },
      "execution_count": 13,
      "outputs": [
        {
          "output_type": "stream",
          "name": "stdout",
          "text": [
            "Logger object is created!\n",
            "Logger object is destroyed!\n"
          ]
        }
      ]
    },
    {
      "cell_type": "markdown",
      "source": [
        "7. **Access Modifiers: Public, Private, and Protected**\n",
        "\n",
        "  **Assignment:**  \n",
        "  Create a class `Employee` with:\n",
        "\n",
        "  -   a public variable `name`,\n",
        "      \n",
        "  -   a protected variable `_salary`, and\n",
        "      \n",
        "  -   a private variable `__ssn`.\n",
        "    \n",
        "\n",
        "  Try accessing all three variables from an object of the class\n",
        "  and document what happens.\n"
      ],
      "metadata": {
        "id": "Tpc8xVOii-KZ"
      }
    },
    {
      "cell_type": "code",
      "source": [
        "class Employee:\n",
        "\n",
        "  # Public Variable\n",
        "  name = \"Atique\"\n",
        "\n",
        "  # Protected Variable\n",
        "  _salary = 90000\n",
        "\n",
        "  # Private variable\n",
        "  __ssn = \"123-4567-89\"\n",
        "\n",
        "# Creating an object of Employee Class\n",
        "emp = Employee()\n",
        "\n",
        "# Accessing the public Variable\n",
        "print(\"Name:\", emp.name)\n",
        "\n",
        "# Accessing the protected Variable\n",
        "print(\"Salary:\", emp._salary)\n",
        "\n",
        "# Accessing the private Variable (This will raise an error)\n",
        "try:\n",
        "    print(\"SSN:\", emp._Employee__ssn)\n",
        "except AttributeError as e:\n",
        "    print(\"Error: {e}\")\n",
        "#Accessing the private variable via name mangling\n",
        "    print(\"SSN (via name mangling):\", emp._Employee__ssn)"
      ],
      "metadata": {
        "colab": {
          "base_uri": "https://localhost:8080/"
        },
        "id": "aWrlPlA5jlmQ",
        "outputId": "cb21d01e-29a2-4458-cc24-9cef97501451"
      },
      "execution_count": 16,
      "outputs": [
        {
          "output_type": "stream",
          "name": "stdout",
          "text": [
            "Name: Atique\n",
            "Salary: 90000\n",
            "SSN: 123-4567-89\n"
          ]
        }
      ]
    },
    {
      "cell_type": "markdown",
      "source": [
        "8. **The `super()` Function**\n",
        "\n",
        "  **Assignment:**  \n",
        "  Create a class `Person` with a constructor that sets the name. Inherit a class `Teacher` from it, add a subject field, and use `super()` to call the base class constructor.\n"
      ],
      "metadata": {
        "id": "Uafv03I4nG12"
      }
    },
    {
      "cell_type": "code",
      "source": [
        "# Base class Person\n",
        "class Person:\n",
        "    def __init__(self, name):\n",
        "        self.name = name\n",
        "\n",
        "# Derived class Teacher\n",
        "class Teacher(Person):\n",
        "    def __init__(self, name, subject):\n",
        "        # Calling the base class constructor using super ()\n",
        "        super().__init__(name)\n",
        "        self.subject = subject\n",
        "    def display(Self):\n",
        "      print(f\"Name: {Self.name}\")\n",
        "      print(f\"Subject: {Self.subject}\")\n",
        "\n",
        "# Example usage:\n",
        "teacher = Teacher(\"Mr. Atique Shah\", \"Mathematics\")\n",
        "teacher.display()"
      ],
      "metadata": {
        "colab": {
          "base_uri": "https://localhost:8080/"
        },
        "id": "ndo-3OrKnNhU",
        "outputId": "0e0d9a49-a3ad-4d6d-9518-ee94bcf63fc5"
      },
      "execution_count": 18,
      "outputs": [
        {
          "output_type": "stream",
          "name": "stdout",
          "text": [
            "Name: Mr. Atique Shah\n",
            "Subject: Mathematics\n"
          ]
        }
      ]
    },
    {
      "cell_type": "markdown",
      "source": [
        "9. **Abstract Classes and Methods**\n",
        "\n",
        "  **Assignment:**  \n",
        "  Use the `abc` module to create an abstract class `Shape` with an abstract method `area()`. Inherit a class `Rectangle` that implements `area()`.\n"
      ],
      "metadata": {
        "id": "1YVEBEyLo9Ym"
      }
    },
    {
      "cell_type": "code",
      "source": [
        "from abc import ABC, abstractmethod\n",
        "\n",
        "# Abstract class shape\n",
        "class Shape(ABC):\n",
        "    @abstractmethod\n",
        "    def area(self):\n",
        "        pass\n",
        "\n",
        "# Class rectangle that inherits from shape and implements the area method\n",
        "class Rectangle(Shape):\n",
        "    def __init__(self, width, height):\n",
        "        self.width = width\n",
        "        self.height = height\n",
        "\n",
        "    def area(self):\n",
        "        return self.width * self.height\n",
        "# Creating an object of Rectangle and calling the area method\n",
        "rect = Rectangle(5, 7)\n",
        "print(f\"Area of Rectangle: {rect.area()}\")\n",
        "\n"
      ],
      "metadata": {
        "colab": {
          "base_uri": "https://localhost:8080/"
        },
        "id": "5_93ldpYpERA",
        "outputId": "a908e30d-3e65-46e0-b90a-50d0f7b3610b"
      },
      "execution_count": 21,
      "outputs": [
        {
          "output_type": "stream",
          "name": "stdout",
          "text": [
            "Area of Rectangle: 35\n"
          ]
        }
      ]
    },
    {
      "cell_type": "markdown",
      "source": [
        "10. **Instance Methods**\n",
        "\n",
        "  **Assignment:**  \n",
        "  Create a class `Dog` with instance variables `name` and `breed`. Add an instance method `bark()` that prints a message including the dog's name.\n"
      ],
      "metadata": {
        "id": "MqGmJO69sE8q"
      }
    },
    {
      "cell_type": "code",
      "source": [
        "class Dog:\n",
        "  def __init__(self, name, breed):\n",
        "    self.name = name\n",
        "    self.breed = breed\n",
        "\n",
        "  def bark(self):\n",
        "    print(f\"{self.name} says woof!\")\n",
        "\n",
        "my_dog = Dog(\"Tommy\", \"German Shepherd\")\n",
        "\n",
        "my_dog.bark()"
      ],
      "metadata": {
        "colab": {
          "base_uri": "https://localhost:8080/"
        },
        "id": "iU0cPzXOsNBi",
        "outputId": "a7e5745b-2552-4e3d-e169-47ad3a08ee81"
      },
      "execution_count": 23,
      "outputs": [
        {
          "output_type": "stream",
          "name": "stdout",
          "text": [
            "Tommy says woof!\n"
          ]
        }
      ]
    },
    {
      "cell_type": "markdown",
      "source": [
        "11. **Class Methods**\n",
        "\n",
        "  **Assignment:**  \n",
        "  Create a class `Book` with a class variable `total_books`. Add a class method `increment_book_count()` to increase the count when a new book is added.\n"
      ],
      "metadata": {
        "id": "WozU4RiQuG53"
      }
    },
    {
      "cell_type": "code",
      "source": [
        "class Book:\n",
        "  total_books = 0\n",
        "\n",
        "  @classmethod\n",
        "  def increment_book_count(cls):\n",
        "    cls.total_books += 1\n",
        "\n",
        "  def __init__(self, title, author): # Indented the __init__ function\n",
        "    self.title = title\n",
        "    self.author = author\n",
        "    Book.increment_book_count()\n",
        "\n",
        "book1 = Book(\"The Alchemist\", \"Paulo Coelho\")\n",
        "book2 = Book(\"To Kill a Mockingbird\", \"Harper Lee\")\n",
        "book3 = Book(\"1984\", \"George Orwell\")\n",
        "\n",
        "print(f\"Total Books: {Book.total_books}\")"
      ],
      "metadata": {
        "colab": {
          "base_uri": "https://localhost:8080/"
        },
        "id": "JhyBQKjFuMcs",
        "outputId": "43d92b6b-6d23-4ca7-9a07-a0c1a74c036a"
      },
      "execution_count": 28,
      "outputs": [
        {
          "output_type": "stream",
          "name": "stdout",
          "text": [
            "Total Books: 3\n"
          ]
        }
      ]
    },
    {
      "cell_type": "markdown",
      "source": [
        "12. **Static Methods**\n",
        "\n",
        "  **Assignment:**  \n",
        "  Create a class `TemperatureConverter` with a static method `celsius_to_fahrenheit(c)` that returns the Fahrenheit value.\n"
      ],
      "metadata": {
        "id": "8m0WYg0YvG3q"
      }
    },
    {
      "cell_type": "code",
      "source": [
        "class TemperatureConverter:\n",
        "  @staticmethod\n",
        "  def celsius_to_fahrenheit(c):\n",
        "    return (c * 9/5) + 32\n",
        "\n",
        "celsius = 25\n",
        "fahrenheit = TemperatureConverter.celsius_to_fahrenheit(celsius)\n",
        "print(f\"{celsius}°C is equal to {fahrenheit}°F\")\n"
      ],
      "metadata": {
        "colab": {
          "base_uri": "https://localhost:8080/"
        },
        "id": "g8QVsGBgvMPN",
        "outputId": "87c41f03-b003-4c34-ecbe-ced16fe9e320"
      },
      "execution_count": 30,
      "outputs": [
        {
          "output_type": "stream",
          "name": "stdout",
          "text": [
            "25°C is equal to 77.0°F\n"
          ]
        }
      ]
    },
    {
      "cell_type": "markdown",
      "source": [
        "13. **Composition**\n",
        "\n",
        "  **Assignment:**  \n",
        "  Create a class `Engine` and a class `Car`. Use composition by passing an `Engine` object to the `Car` class during initialization. Access a method of the `Engine` class via the `Car` class.\n",
        "\n"
      ],
      "metadata": {
        "id": "IrRpuFLRvsRf"
      }
    },
    {
      "cell_type": "code",
      "source": [
        "class Engine:\n",
        "    def __init__(self, engine_type):\n",
        "        self.engine_type = engine_type\n",
        "\n",
        "    def start(self):\n",
        "        return f\"The {self.engine_type} engine has started.\"\n",
        "\n",
        "class Car:\n",
        "    def __init__(self, brand, engine):\n",
        "        self.brand = brand\n",
        "        self.engine = engine\n",
        "\n",
        "    def start_car(self):\n",
        "        return f\"{self.brand} Car is starting. {engine.start()}\"\n",
        "engine = Engine(\"V8\")\n",
        "car = Car(\"Swift\", engine)\n",
        "print(car.start_car())"
      ],
      "metadata": {
        "colab": {
          "base_uri": "https://localhost:8080/"
        },
        "id": "aPFoUo--v1PM",
        "outputId": "8069d4e7-966f-4def-c370-50ea692bb12b"
      },
      "execution_count": 31,
      "outputs": [
        {
          "output_type": "stream",
          "name": "stdout",
          "text": [
            "Swift Car is starting. The V8 engine has started.\n"
          ]
        }
      ]
    },
    {
      "cell_type": "markdown",
      "source": [
        "14. **Aggregation**\n",
        "\n",
        "  **Assignment:**  \n",
        "  Create a class `Department` and a class `Employee`. Use aggregation by having a `Department` object store a reference to an `Employee` object that exists independently of it.\n",
        "\n"
      ],
      "metadata": {
        "id": "VuXY0PIgyKMJ"
      }
    },
    {
      "cell_type": "code",
      "source": [
        "class Employee:\n",
        "    def __init__(self, name, position):\n",
        "        self.name = name\n",
        "        self.position = position\n",
        "\n",
        "    def get_employee_info(self):\n",
        "        return f\"Name: {self.name}, Position: {self.position}\"\n",
        "\n",
        "class Department:\n",
        "    def __init__(self, department_name, employee):\n",
        "        self.department_name = department_name\n",
        "        self.employee = employee\n",
        "\n",
        "    def get_department_info(self):\n",
        "        return f\"Department: {self.department_name}, Employee: {self.employee.get_employee_info()}\"\n",
        "\n",
        "employee1 = Employee(\"Syed Atique\", \"Software Engineer\")\n",
        "department1 = Department(\"IT\", employee1)\n",
        "employee2 = Employee(\"Shanyal\", \"Data Scientist\")\n",
        "department2 = Department(\"Data Science\", employee2)\n",
        "\n",
        "print(department1.get_department_info())\n",
        "print(department2.get_department_info())\n"
      ],
      "metadata": {
        "colab": {
          "base_uri": "https://localhost:8080/"
        },
        "id": "x-xJPWSsyP2x",
        "outputId": "cb922662-3a03-447a-9645-3d803245d864"
      },
      "execution_count": 33,
      "outputs": [
        {
          "output_type": "stream",
          "name": "stdout",
          "text": [
            "Department: IT, Employee: Name: Syed Atique, Position: Software Engineer\n",
            "Department: Data Science, Employee: Name: Shanyal, Position: Data Scientist\n"
          ]
        }
      ]
    },
    {
      "cell_type": "markdown",
      "source": [
        "15. **Method Resolution Order (MRO) and Diamond Inheritance**\n",
        "\n",
        "  **Assignment:**  \n",
        "  Create four classes:\n",
        "\n",
        "  -   `A` with a method `show()`,\n",
        "      \n",
        "  -   `B` and `C` that inherit from `A` and override `show()`,\n",
        "      \n",
        "  -   `D` that inherits from both `B` and `C`.\n",
        "      \n",
        "\n",
        "  Create an object of `D` and call `show()` to observe MRO.\n",
        "\n"
      ],
      "metadata": {
        "id": "35cUktAmz-hG"
      }
    },
    {
      "cell_type": "code",
      "source": [
        "class A:\n",
        "  def show(self):\n",
        "    print(\"Method from Class A\")\n",
        "\n",
        "class B(A):\n",
        "  def show(self):\n",
        "    print(\"Method from Class B\")\n",
        "\n",
        "class C(A):\n",
        "  def show(self):\n",
        "    print(\"Method from Class C\")\n",
        "\n",
        "class D(B, C):\n",
        "  pass\n",
        "\n",
        "d=D()\n",
        "d.show()\n",
        "\n",
        "print(D.mro())"
      ],
      "metadata": {
        "colab": {
          "base_uri": "https://localhost:8080/"
        },
        "id": "ZZygaGj00IkA",
        "outputId": "dafa294d-fa2f-4339-e3ee-d0024211bef4"
      },
      "execution_count": 34,
      "outputs": [
        {
          "output_type": "stream",
          "name": "stdout",
          "text": [
            "Method from Class B\n",
            "[<class '__main__.D'>, <class '__main__.B'>, <class '__main__.C'>, <class '__main__.A'>, <class 'object'>]\n"
          ]
        }
      ]
    },
    {
      "cell_type": "markdown",
      "source": [
        "16. **Function Decorators**\n",
        "\n",
        "  **Assignment:**  \n",
        "  Write a decorator function `log_function_call` that prints \"Function is being called\" before a function executes. Apply it to a function `say_hello()`.\n",
        "\n"
      ],
      "metadata": {
        "id": "KCyPCOuS0xcd"
      }
    },
    {
      "cell_type": "code",
      "source": [
        "# Decorator function\n",
        "def log_function_call(func):\n",
        "    def wrapper():\n",
        "        print(\"Function is being called\")\n",
        "        return func() # Call the original function\n",
        "    return wrapper\n",
        "\n",
        "# Function to be decorated\n",
        "@log_function_call\n",
        "def say_hello():\n",
        "    print(\"Hello, World!\")\n",
        "\n",
        "# Calling the decorated function\n",
        "say_hello()"
      ],
      "metadata": {
        "colab": {
          "base_uri": "https://localhost:8080/"
        },
        "id": "xVnHhz0K02z0",
        "outputId": "71e03904-8836-4b13-b9b0-e177da091ea9"
      },
      "execution_count": 35,
      "outputs": [
        {
          "output_type": "stream",
          "name": "stdout",
          "text": [
            "Function is being called\n",
            "Hello, World!\n"
          ]
        }
      ]
    },
    {
      "cell_type": "markdown",
      "source": [
        "17. **Class Decorators**\n",
        "\n",
        "  **Assignment:**  \n",
        "  Create a class decorator `add_greeting` that modifies a class to add a `greet()` method returning \"Hello from Decorator!\". Apply it to a class `Person`.\n"
      ],
      "metadata": {
        "id": "ERiPAHrc39SC"
      }
    },
    {
      "cell_type": "code",
      "source": [
        "# class Decorator\n",
        "def add_greeting(cls):\n",
        "    def greet(self):\n",
        "        return \"Hello from Decorator!\"\n",
        "    # Assign the greet method to the class\n",
        "    cls.greet = greet\n",
        "    # Return the modified class\n",
        "    return cls\n",
        "# Applying the class decorator to the Person class\n",
        "@add_greeting\n",
        "class Person:\n",
        "    def __init__(self, name):\n",
        "        self.name = name\n",
        "\n",
        "# Creating an instance of the Person class\n",
        "person = Person(\"Syed Atique\")\n",
        "\n",
        "# Calling the greet method\n",
        "print(person.greet())"
      ],
      "metadata": {
        "colab": {
          "base_uri": "https://localhost:8080/"
        },
        "id": "U6B5Cy4U4L_f",
        "outputId": "19253723-0bba-45d8-865f-3fd1b56b3e89"
      },
      "execution_count": 37,
      "outputs": [
        {
          "output_type": "stream",
          "name": "stdout",
          "text": [
            "Hello from Decorator!\n"
          ]
        }
      ]
    },
    {
      "cell_type": "markdown",
      "source": [
        "18. **Property Decorators: `@property`, `@setter`, and `@deleter`**\n",
        "\n",
        "  **Assignment:**  \n",
        "  Create a class `Product` with a private attribute `_price`. Use `@property` to get the price, `@price.setter` to update it, and `@price.deleter` to delete it.\n"
      ],
      "metadata": {
        "id": "bMlLWocA5uYq"
      }
    },
    {
      "cell_type": "code",
      "source": [
        "class Product:\n",
        "  def __init__(self, name, price):\n",
        "    self.name = name\n",
        "    self._price = price\n",
        "\n",
        "  @property\n",
        "  def price(self):\n",
        "    return self._price\n",
        "\n",
        "  @price.setter\n",
        "  def price(self, value):\n",
        "    if value < 0:\n",
        "      print(\"Price cannot be negative!\")\n",
        "    else:\n",
        "      self._price = value\n",
        "\n",
        "  @price.deleter\n",
        "  def price(self):\n",
        "    print(\"Price deleted!\")\n",
        "    del self._price\n",
        "\n",
        "# Creating a Product object\n",
        "product = Product(\"Dress\", 3000)\n",
        "\n",
        "print(product.price)\n",
        "\n",
        "product.price = 4000\n",
        "print(product.price)\n",
        "\n",
        "class Product:\n",
        "  def __init__(self, name, price):\n",
        "    self.name = name\n",
        "    self._price = price\n",
        "\n",
        "  @property\n",
        "  def price(self):\n",
        "    return self._price\n",
        "\n",
        "  @price.setter\n",
        "  def price(self, value):\n",
        "    if value < 0:\n",
        "      print(\"Price cannot be negative!\")\n",
        "    else:\n",
        "      self._price = value\n",
        "\n",
        "  @price.deleter\n",
        "  def price(self):\n",
        "    print(\"Price deleted!\")\n",
        "    del self._price\n",
        "\n",
        "# Creating a Product object\n",
        "product = Product(\"Dress\", 3000)\n",
        "\n",
        "print(product.price)\n",
        "\n",
        "product.price = -500\n",
        "\n",
        "del product.price\n"
      ],
      "metadata": {
        "colab": {
          "base_uri": "https://localhost:8080/"
        },
        "id": "yZUa79Y37oaE",
        "outputId": "000ed8b5-2492-48c4-9fa1-da83a43066d3"
      },
      "execution_count": 43,
      "outputs": [
        {
          "output_type": "stream",
          "name": "stdout",
          "text": [
            "3000\n",
            "4000\n",
            "3000\n",
            "Price cannot be negative!\n",
            "Price deleted!\n"
          ]
        }
      ]
    },
    {
      "cell_type": "markdown",
      "source": [
        "19. **`callable()` and `__call__()`**\n",
        "\n",
        "  **Assignment:**  \n",
        "  Create a class `Multiplier` with an `__init__()` to set a factor. Define a `__call__()` method that multiplies an input by the factor. Test it with `callable()` and by calling the object like a function.\n"
      ],
      "metadata": {
        "id": "q8L8dw5Q8EVq"
      }
    },
    {
      "cell_type": "code",
      "source": [
        "class Multiplier:\n",
        "  def __init__(self, factor):\n",
        "    self.factor = factor\n",
        "\n",
        "  def __call__(self, number):\n",
        "    return number * self.factor\n",
        "\n",
        "# Creating an instance of Multiplier\n",
        "multiplier = Multiplier(5)\n",
        "\n",
        "# Testing with callable() to check if the object is callable\n",
        "print(callable(multiplier))\n",
        "\n",
        "# Calling the object like a function to multiply an input by the factor\n",
        "result = multiplier(20) # This calss __call__(20) method\n",
        "print(result) # Output: 100\n"
      ],
      "metadata": {
        "colab": {
          "base_uri": "https://localhost:8080/"
        },
        "id": "8XDJz4HZ8Jok",
        "outputId": "b24d1f03-3154-4621-e7d3-a03e6ef0ad87"
      },
      "execution_count": 45,
      "outputs": [
        {
          "output_type": "stream",
          "name": "stdout",
          "text": [
            "True\n",
            "100\n"
          ]
        }
      ]
    },
    {
      "cell_type": "markdown",
      "source": [
        "20. **Creating a Custom Exception**\n",
        "\n",
        "  **Assignment:**  \n",
        "  Create a custom exception `InvalidAgeError`. Write a function `check_age(age)` that raises this exception if `age < 18`. Handle it with `try...except`.\n"
      ],
      "metadata": {
        "id": "Kf8pGy4h9N3h"
      }
    },
    {
      "cell_type": "code",
      "source": [
        "class InvalidAgeError(Exception):\n",
        "  def __init__(self, message=\"Age must be 18 or older\"):\n",
        "    self.message = message\n",
        "    super().__init__(self.message)\n",
        "\n",
        "def check_age(age):\n",
        "  if age < 18:\n",
        "    raise InvalidAgeError(f\"Invalid age: {age}. You must be 18 or older.\")\n",
        "  else:\n",
        "    print(f\"Age: {age} is Valid!\")\n",
        "\n",
        "try:\n",
        "  age = int(input(\"Enter your age: \"))\n",
        "  check_age(age)\n",
        "except InvalidAgeError as e:\n",
        "  print(f\"Error: {e}\")\n",
        "except ValueError:\n",
        "  print(\"Invalid input. Please enter a valid age as an integer.\")"
      ],
      "metadata": {
        "colab": {
          "base_uri": "https://localhost:8080/"
        },
        "id": "vzmmaVyq9Uje",
        "outputId": "e704cbc1-c31c-4bdb-a30a-9c89bbeb9cae"
      },
      "execution_count": 47,
      "outputs": [
        {
          "output_type": "stream",
          "name": "stdout",
          "text": [
            "Enter your age: 18\n",
            "Age: 18 is Valid!\n"
          ]
        }
      ]
    },
    {
      "cell_type": "markdown",
      "source": [
        "21. **Make a Custom Class Iterable**\n",
        "\n",
        "  **Assignment:**  \n",
        "  Create a class `Countdown` that takes a start number. Implement `__iter__()` and `__next__()` to make the object iterable in a for-loop, counting down to 0.\n",
        "\n"
      ],
      "metadata": {
        "id": "n2dWC1Ru--7t"
      }
    },
    {
      "cell_type": "code",
      "source": [
        "class Countdown:\n",
        "  def __init__(self, start):\n",
        "    self.start = start  # Set the starting number\n",
        "    self.current = start  # Initialize current to the starting number\n",
        "  def __iter__(self):\n",
        "    return self   # Return the iterator object itself\n",
        "\n",
        "  def __next__(self):\n",
        "    # If current is less than 0, stop iteration\n",
        "    if self.current < 0:\n",
        "      raise StopIteration\n",
        "    #Decrease current by 1 and return the value\n",
        "    self.current -= 1\n",
        "    return self.current + 1   # Return the value before decrementing\n",
        "\n",
        "countdown = Countdown(10)\n",
        "\n",
        "for number in countdown:\n",
        "  print(number)"
      ],
      "metadata": {
        "colab": {
          "base_uri": "https://localhost:8080/"
        },
        "id": "r6-5P1sX_Ex0",
        "outputId": "d5460bf2-3da0-400f-a9dc-fd27588bf884"
      },
      "execution_count": 49,
      "outputs": [
        {
          "output_type": "stream",
          "name": "stdout",
          "text": [
            "10\n",
            "9\n",
            "8\n",
            "7\n",
            "6\n",
            "5\n",
            "4\n",
            "3\n",
            "2\n",
            "1\n",
            "0\n"
          ]
        }
      ]
    }
  ]
}